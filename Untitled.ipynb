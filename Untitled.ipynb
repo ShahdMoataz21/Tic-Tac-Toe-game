{
 "cells": [
  {
   "cell_type": "code",
   "execution_count": null,
   "id": "805bab1d",
   "metadata": {},
   "outputs": [
    {
     "name": "stdout",
     "output_type": "stream",
     "text": [
      " |  | \n",
      "---------\n",
      " |  | \n",
      "---------\n",
      " |  | \n",
      "---------\n"
     ]
    }
   ],
   "source": [
    "def borders(board):\n",
    "    for row in board:\n",
    "        print(\" | \".join(row))\n",
    "        print(\"-\" * 9)\n",
    "\n",
    "def moves(board, player):\n",
    "    move = input(\"Enter your row and column : \")\n",
    "    row, col = map(int, move.split())\n",
    "\n",
    "    if board[row][col] == \"\":\n",
    "        board[row][col] = player\n",
    "    else:\n",
    "        print(\"Invalid move. Try again.\")\n",
    "        moves(board, player)\n",
    "\n",
    "def check_win(board, player):\n",
    "    # Check rows\n",
    "    for row in board:\n",
    "        if row.count(player) == 3:\n",
    "            return True\n",
    "\n",
    "    # Check columns\n",
    "    for col in range(3):\n",
    "        if board[0][col] == board[1][col] == board[2][col] == player:\n",
    "            return True\n",
    "\n",
    "    # Check diagonals\n",
    "    if board[0][0] == board[1][1] == board[2][2] == player:\n",
    "        return True\n",
    "    if board[0][2] == board[1][1] == board[2][0] == player:\n",
    "        return True\n",
    "\n",
    "    return False\n",
    "\n",
    "def check_tie(board):\n",
    "    for row in board:\n",
    "        if \"\" in row:\n",
    "            return False\n",
    "    return True\n",
    "\n",
    "def play_game():\n",
    "    board = [[\"\" for _ in range(3)] for _ in range(3)]\n",
    "    players = [\"X\", \"O\"]\n",
    "    current_player = players[0]\n",
    "\n",
    "    while True:\n",
    "        borders(board)\n",
    "        moves(board, current_player)\n",
    "\n",
    "        if check_win(board, current_player):\n",
    "            borders(board)\n",
    "            print(\"Player\", current_player, \"wins!\")\n",
    "            break\n",
    "        elif check_tie(board):\n",
    "            moves(board)\n",
    "            print(\"It's a tie!\")\n",
    "            break\n",
    "\n",
    "        current_player = players[(players.index(current_player) + 1) % 2]\n",
    "\n",
    "play_game()"
   ]
  },
  {
   "cell_type": "code",
   "execution_count": null,
   "id": "9971185a",
   "metadata": {},
   "outputs": [],
   "source": []
  }
 ],
 "metadata": {
  "kernelspec": {
   "display_name": "Python 3 (ipykernel)",
   "language": "python",
   "name": "python3"
  },
  "language_info": {
   "codemirror_mode": {
    "name": "ipython",
    "version": 3
   },
   "file_extension": ".py",
   "mimetype": "text/x-python",
   "name": "python",
   "nbconvert_exporter": "python",
   "pygments_lexer": "ipython3",
   "version": "3.11.3"
  }
 },
 "nbformat": 4,
 "nbformat_minor": 5
}
